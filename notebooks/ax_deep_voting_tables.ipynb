{
 "cells": [
  {
   "cell_type": "code",
   "execution_count": null,
   "id": "8a19c30c",
   "metadata": {},
   "outputs": [],
   "source": [
    "%cd .."
   ]
  },
  {
   "cell_type": "markdown",
   "id": "8974b8b3",
   "metadata": {},
   "source": [
    "# Comparison Experiment 2"
   ]
  },
  {
   "cell_type": "code",
   "execution_count": 2,
   "id": "caa0027a",
   "metadata": {},
   "outputs": [
    {
     "name": "stdout",
     "output_type": "stream",
     "text": [
      "\\begin{tabular}{lcccccc}\n",
      "\\toprule\n",
      "\\textbf{Metric} & \\textbf{S3x3} & \\textbf{B3x3} & \\textbf{S3x5} & \\textbf{B3x5} & \\textbf{S3x5-L} & \\textbf{B3x5-L} \\\\\n",
      "\\midrule\n",
      "Max \\# Voters & 3 & 3 & 5 & 5 & 5 & 5 \\\\\n",
      "Max \\# Alternatives & 3 & 3 & 3 & 3 & 3 & 3 \\\\\n",
      "All admissible winner & 0.98 & 1.00 & 0.99 & 1.00 & 0.99 & 1.00 \\\\\n",
      "Training Time (min) & 0.55 & 1.12 & 0.52 & 0.50 & 3.15 & 2.80 \\\\\n",
      "Evaluation Time (min) & 0.01 & 0.01 & 2.36 & 0.35 & 0.40 & 0.37 \\\\\n",
      "Axiom: Condorcet & 100.00 & 100.00 & 99.36 & 88.75 & 99.98 & 99.80 \\\\\n",
      "\\textbf{Rule Similarity} &  &  &  &  &  &  \\\\\n",
      "Anti-Plurality & 54.11 & 56.20 & 49.15 & 56.86 & 49.26 & 51.87 \\\\\n",
      "Baldwin & 89.58 & 93.75 & 89.83 & 78.65 & 89.70 & 88.55 \\\\\n",
      "Banks & 89.58 & 93.75 & 88.11 & 77.88 & 87.66 & 87.47 \\\\\n",
      "Blacks & 93.75 & 97.92 & 90.61 & 84.64 & 90.98 & 92.83 \\\\\n",
      "Borda & 87.02 & 91.19 & 81.48 & 92.28 & 81.84 & 83.69 \\\\\n",
      "Coombs & 93.75 & 95.83 & 89.08 & 82.60 & 89.45 & 91.68 \\\\\n",
      "Copeland & 93.75 & 97.92 & 90.61 & 82.22 & 90.98 & 91.29 \\\\\n",
      "Instant Runoff TB & 84.72 & 86.11 & 90.68 & 76.94 & 92.02 & 88.49 \\\\\n",
      "Kemeny-Young & 89.58 & 93.75 & 89.83 & 78.65 & 89.06 & 88.55 \\\\\n",
      "Llull & 89.58 & 93.75 & 88.87 & 78.65 & 88.42 & 88.23 \\\\\n",
      "Plurality & 78.69 & 78.69 & 67.14 & 66.68 & 65.93 & 65.85 \\\\\n",
      "Plurality With Runoff PUT & 78.69 & 78.69 & 88.96 & 75.73 & 88.76 & 86.64 \\\\\n",
      "Stable Voting & 93.75 & 97.92 & 91.57 & 82.73 & 91.61 & 91.87 \\\\\n",
      "Top Cycle & 89.58 & 93.75 & 87.19 & 77.88 & 87.15 & 87.21 \\\\\n",
      "Uncovered Set & 89.58 & 93.75 & 88.11 & 77.88 & 87.66 & 87.47 \\\\\n",
      "Weak Nanson & 93.75 & 97.92 & 90.61 & 84.13 & 90.98 & 92.57 \\\\\n",
      "\\bottomrule\n",
      "\\end{tabular}\n"
     ]
    }
   ],
   "source": [
    "from visualizations import Visualizations\n",
    "\n",
    "locations = {\n",
    "    'S3x3': './results/exp3/WEC/exp3_2025-08-29_15-00-56_IC',  # WEC learning 3x3 Condorcet from scratch\n",
    "    'B3x3': './results/exp3/WEC/exp3_2025-08-29_15-21-34_IC',  # WEC learning 3x3 Condorcet from Borda\n",
    "    'S3x5': './results/exp3/WEC/exp3_2025-08-28_07-01-45_IC',  # WEC learning 3x5 Condorcet from scratch\n",
    "    'B3x5': './results/exp3/WEC/exp3_2025-08-28_07-00-53_IC',  # WEC learning 3x5 Condorcet from Borda\n",
    "    # 'S3x5-L': './results/exp3/WEC/exp3_2025-09-05_20-06-18_IC',  # WEC learning 3x5 Condorcet from scratch on 10000 steps\n",
    "    # 'B3x5-L': './results/exp3/WEC/exp3_2025-08-28_07-57-46_IC',  # WEC learning 3x5 Condorcet from Borda on 10000 steps\n",
    "    'S3x5-L': './results/exp3/WEC/exp3_2025-09-06_12-54-21_IC',  # WEC learning 3x5 Condorcet from scratch on 5000 steps\n",
    "    'B3x5-L': './results/exp3/WEC/exp3_2025-09-06_12-49-55_IC',  # WEC learning 3x5 Condorcet from Borda on 5000 steps\n",
    "    \n",
    "}\n",
    "\n",
    "Visualizations.plot_table_unsupervised(locations)"
   ]
  },
  {
   "cell_type": "code",
   "execution_count": null,
   "id": "bb0c7d50",
   "metadata": {},
   "outputs": [
    {
     "name": "stdout",
     "output_type": "stream",
     "text": [
      "\\begin{tabular}{lcccc}\n",
      "\\toprule\n",
      "\\textbf{Metric} & \\textbf{I-S3x3} & \\textbf{I-B3x3} & \\textbf{I-S3x5} & \\textbf{I-B3x5} \\\\\n",
      "\\midrule\n",
      "Max \\# Voters & 3 & 3 & 5 & 5 \\\\\n",
      "Max \\# Alternatives & 3 & 3 & 3 & 3 \\\\\n",
      "All admissible winner & 0.94 & 1.00 & 0.99 & 0.99 \\\\\n",
      "Training Time (min) & 0.59 & 0.64 & 1.21 & 1.47 \\\\\n",
      "Evaluation Time (min) & 0.03 & 0.03 & 4.65 & 4.87 \\\\\n",
      "Axiom: Independence & 100.00 & 100.00 & 100.00 & 100.00 \\\\\n",
      "\\textbf{Rule Similarity} &  &  &  &  \\\\\n",
      "Anti-Plurality & 4.86 & 22.57 & 9.50 & 23.43 \\\\\n",
      "Baldwin & 2.08 & 28.82 & 2.04 & 29.47 \\\\\n",
      "Banks & 2.08 & 28.82 & 2.30 & 28.58 \\\\\n",
      "Blacks & 0.69 & 30.21 & 0.60 & 30.92 \\\\\n",
      "Borda & 2.78 & 28.12 & 3.42 & 28.08 \\\\\n",
      "Coombs & 0.69 & 30.90 & 1.62 & 31.52 \\\\\n",
      "Copeland & 0.69 & 30.21 & 0.85 & 30.03 \\\\\n",
      "Instant Runoff TB & 0.00 & 24.65 & 0.00 & 36.41 \\\\\n",
      "Kemeny-Young & 2.08 & 28.82 & 2.68 & 28.84 \\\\\n",
      "Llull & 2.08 & 28.82 & 2.04 & 28.84 \\\\\n",
      "Plurality & 2.78 & 24.65 & 11.31 & 21.69 \\\\\n",
      "Plurality With Runoff PUT & 6.94 & 24.65 & 2.25 & 30.37 \\\\\n",
      "Stable Voting & 0.69 & 30.21 & 1.23 & 30.28 \\\\\n",
      "Top Cycle & 0.69 & 28.82 & 0.85 & 28.58 \\\\\n",
      "Uncovered Set & 2.08 & 28.82 & 2.30 & 28.58 \\\\\n",
      "Weak Nanson & 0.69 & 30.21 & 0.85 & 30.67 \\\\\n",
      "\\bottomrule\n",
      "\\end{tabular}\n"
     ]
    }
   ],
   "source": [
    "from visualizations import Visualizations\n",
    "\n",
    "locations = {\n",
    "    'S3x3': './results/exp3/WEC/exp3_2025-08-29_15-01-33_IC',  # WEC learning 3x3 Independence from scratch\n",
    "    'B3x3': './results/exp3/WEC/exp3_2025-08-29_15-22-44_IC',  # WEC learning 3x3 Independence from Borda\n",
    "    'S3x5': './results/exp3/WEC/exp3_2025-08-28_07-04-39_IC',  # WEC learning 3x5 Independence from scratch\n",
    "    'B3x5': './results/exp3/WEC/exp3_2025-08-28_06-27-37_IC',  # WEC learning 3x5 Independence from Borda\n",
    "}\n",
    "\n",
    "Visualizations.plot_table_unsupervised(locations)"
   ]
  },
  {
   "cell_type": "markdown",
   "id": "51aeb941",
   "metadata": {},
   "source": [
    "---"
   ]
  },
  {
   "cell_type": "markdown",
   "id": "01efe18f",
   "metadata": {},
   "source": [
    "# Comparison Experiment 3"
   ]
  },
  {
   "cell_type": "code",
   "execution_count": null,
   "id": "b62fc6dd",
   "metadata": {},
   "outputs": [
    {
     "name": "stdout",
     "output_type": "stream",
     "text": [
      "\\begin{tabular}{lcccccc}\n",
      "\\toprule\n",
      "\\textbf{Metric} & \\textbf{S3x3-2} & \\textbf{B3x3-2} & \\textbf{S3x3-3} & \\textbf{B3x3-3} & \\textbf{S3x3-4} & \\textbf{B3x3-4} \\\\\n",
      "\\midrule\n",
      "Max \\# Voters & 3 & 3 & 3 & 3 & 3 & 3 \\\\\n",
      "Max \\# Alternatives & 3 & 3 & 3 & 3 & 3 & 3 \\\\\n",
      "All admissible winner & 1.00 & 1.00 & 0.89 & 1.00 & 1.00 & 1.00 \\\\\n",
      "Training Time (min) & 1.06 & 0.83 & 0.95 & 0.86 & 1.09 & 1.15 \\\\\n",
      "Evaluation Time (min) & 0.05 & 0.03 & 0.03 & 0.03 & 0.04 & 0.05 \\\\\n",
      "Axiom: Condorcet & 100.00 & 69.57 & 100.00 & 97.14 & 100.00 & 97.14 \\\\\n",
      "Axiom: Independence & 44.07 & 32.75 & 100.00 & 30.68 & 43.11 & 30.68 \\\\\n",
      "\\textbf{Rule Similarity} &  &  &  &  &  &  \\\\\n",
      "Anti-Plurality & 51.33 & 46.71 & 47.86 & 48.56 & 49.95 & 48.56 \\\\\n",
      "Baldwin & 90.28 & 64.77 & 86.81 & 87.72 & 88.89 & 89.80 \\\\\n",
      "Banks & 90.28 & 64.77 & 86.81 & 87.72 & 88.89 & 89.80 \\\\\n",
      "Blacks & 90.97 & 64.77 & 87.50 & 87.72 & 89.58 & 87.72 \\\\\n",
      "Borda & 84.25 & 71.49 & 80.77 & 86.11 & 82.86 & 86.11 \\\\\n",
      "Coombs & 90.97 & 62.68 & 87.50 & 85.64 & 89.58 & 85.64 \\\\\n",
      "Copeland & 90.97 & 64.77 & 87.50 & 87.72 & 89.58 & 87.72 \\\\\n",
      "Instant Runoff TB & 85.42 & 59.21 & 83.33 & 80.77 & 86.11 & 80.77 \\\\\n",
      "Kemeny-Young & 90.28 & 64.77 & 86.81 & 87.72 & 88.89 & 89.80 \\\\\n",
      "Llull & 90.28 & 64.77 & 86.81 & 87.72 & 88.89 & 89.80 \\\\\n",
      "Plurality & 77.30 & 60.36 & 73.83 & 72.66 & 75.91 & 74.74 \\\\\n",
      "Plurality With Runoff PUT & 77.30 & 62.68 & 73.83 & 72.66 & 75.91 & 74.74 \\\\\n",
      "Stable Voting & 90.97 & 64.77 & 87.50 & 87.72 & 89.58 & 87.72 \\\\\n",
      "Top Cycle & 88.89 & 68.93 & 86.81 & 91.89 & 87.50 & 89.80 \\\\\n",
      "Uncovered Set & 90.28 & 64.77 & 86.81 & 87.72 & 88.89 & 89.80 \\\\\n",
      "Weak Nanson & 90.97 & 64.77 & 87.50 & 87.72 & 89.58 & 87.72 \\\\\n",
      "\\bottomrule\n",
      "\\end{tabular}\n"
     ]
    }
   ],
   "source": [
    "from visualizations import Visualizations\n",
    "\n",
    "# Training on multiple axioms\n",
    "locations = {\n",
    "    'R3x3-2': './results/exp3/WEC/exp3_2025-09-05_23-09-28_IC',  # WEC learning 3x3 Condorcet from scratch\n",
    "    'B3x3-2': './results/exp3/WEC/exp3_2025-08-29_15-24-06_IC',  # WEC learning 3x5 Condorcet from Borda\n",
    "    'R3x3-3': './results/exp3/WEC/exp3_2025-09-05_22-47-12_IC',  # WEC learning 3x3 Condorcet from scratch\n",
    "    'B3x3-3': './results/exp3/WEC/exp3_2025-09-05_22-55-36_IC',  # WEC learning 3x5 Condorcet from Borda\n",
    "    'R3x3-4': './results/exp3/WEC/exp3_2025-09-05_22-58-36_IC',  # WEC learning 3x5 Condorcet from scratch\n",
    "    'B3x3-4': './results/exp3/WEC/exp3_2025-09-05_23-16-32_IC',  # WEC learning 3x5 Condorcet from Borda\n",
    "}\n",
    "\n",
    "Visualizations.plot_table_unsupervised(locations)"
   ]
  },
  {
   "cell_type": "code",
   "execution_count": null,
   "id": "7ca516fa",
   "metadata": {},
   "outputs": [
    {
     "name": "stdout",
     "output_type": "stream",
     "text": [
      "\\begin{tabular}{lcccccc}\n",
      "\\toprule\n",
      "\\textbf{Metric} & \\textbf{S3x5-2} & \\textbf{B3x5-2} & \\textbf{S3x5-3} & \\textbf{B3x5-3} & \\textbf{S3x5-4} & \\textbf{B3x5-4} \\\\\n",
      "\\midrule\n",
      "Max \\# Voters & 5 & 5 & 5 & 5 & 5 & 5 \\\\\n",
      "Max \\# Alternatives & 3 & 3 & 3 & 3 & 3 & 3 \\\\\n",
      "All admissible winner & 1.00 & 1.00 & 1.00 & 1.00 & 1.00 & 1.00 \\\\\n",
      "Training Time (min) & 2.93 & 2.21 & 1.85 & 1.60 & 1.78 & 1.69 \\\\\n",
      "Evaluation Time (min) & 8.05 & 6.21 & 5.43 & 5.05 & 6.82 & 6.58 \\\\\n",
      "Axiom: Condorcet & 97.81 & 83.16 & 99.37 & 84.39 & 98.75 & 86.56 \\\\\n",
      "Axiom: Independence & 28.59 & 32.22 & 27.03 & 32.06 & 26.55 & 29.30 \\\\\n",
      "\\textbf{Rule Similarity} &  &  &  &  &  &  \\\\\n",
      "Anti-Plurality & 51.52 & 55.78 & 51.00 & 56.45 & 50.95 & 55.96 \\\\\n",
      "Baldwin & 92.45 & 80.35 & 92.33 & 80.69 & 90.72 & 82.74 \\\\\n",
      "Banks & 91.69 & 80.10 & 91.56 & 80.44 & 89.96 & 82.23 \\\\\n",
      "Blacks & 89.88 & 81.33 & 89.60 & 82.37 & 89.08 & 84.72 \\\\\n",
      "Borda & 82.79 & 89.82 & 80.64 & 90.86 & 80.78 & 93.21 \\\\\n",
      "Coombs & 90.11 & 77.25 & 91.71 & 78.16 & 91.06 & 80.51 \\\\\n",
      "Copeland & 90.33 & 80.82 & 90.37 & 81.29 & 89.53 & 83.64 \\\\\n",
      "Instant Runoff TB & 83.78 & 70.53 & 85.23 & 71.51 & 84.70 & 73.26 \\\\\n",
      "Kemeny-Young & 94.05 & 80.99 & 94.24 & 81.01 & 92.32 & 83.06 \\\\\n",
      "Llull & 92.45 & 80.35 & 92.33 & 80.69 & 90.72 & 82.74 \\\\\n",
      "Plurality & 66.37 & 60.96 & 66.71 & 62.07 & 66.12 & 63.29 \\\\\n",
      "Plurality With Runoff PUT & 87.35 & 74.48 & 89.35 & 74.50 & 87.81 & 76.24 \\\\\n",
      "Stable Voting & 91.16 & 80.69 & 91.52 & 81.10 & 90.36 & 83.44 \\\\\n",
      "Top Cycle & 88.84 & 78.48 & 88.80 & 78.69 & 87.57 & 80.77 \\\\\n",
      "Uncovered Set & 91.69 & 79.84 & 91.56 & 80.18 & 89.96 & 82.10 \\\\\n",
      "Weak Nanson & 90.65 & 82.09 & 90.37 & 82.88 & 89.85 & 85.23 \\\\\n",
      "\\bottomrule\n",
      "\\end{tabular}\n"
     ]
    }
   ],
   "source": [
    "from visualizations import Visualizations\n",
    "\n",
    "locations = {\n",
    "    'R3x5-2': './results/exp3/WEC/exp3_2025-09-06_11-42-25_IC',  # WEC learning 3x5 Independence from scratch\n",
    "    'B3x5-2': './results/exp3/WEC/exp3_2025-08-29_15-42-08_IC',  # WEC learning 3x5 Independence from Borda\n",
    "    'R3x5-3': './results/exp3/WEC/exp3_2025-09-05_23-24-51_IC',  # WEC learning 3x5 Independence from scratch\n",
    "    'B3x5-3': './results/exp3/WEC/exp3_2025-09-06_12-10-01_IC',  # WEC learning 3x5 Independence from Borda\n",
    "    'R3x5-4': './results/exp3/WEC/exp3_2025-09-05_23-32-10_IC',  # WEC learning 3x5 Independence from scratch\n",
    "    'B3x5-4': './results/exp3/WEC/exp3_2025-09-06_12-16-42_IC',  # WEC learning 3x5 Independence from Borda\n",
    "}\n",
    "\n",
    "Visualizations.plot_table_unsupervised(locations)"
   ]
  },
  {
   "cell_type": "markdown",
   "id": "1e4eaa16",
   "metadata": {},
   "source": [
    "# Check parameters"
   ]
  },
  {
   "cell_type": "code",
   "execution_count": 2,
   "id": "46740b58",
   "metadata": {},
   "outputs": [],
   "source": [
    "import sys\n",
    "from pathlib import Path\n",
    "\n",
    "# go one level up from \"notebooks/\"\n",
    "root = Path(__file__).resolve().parents[1] if \"__file__\" in globals() else Path.cwd().parent\n",
    "sys.path.insert(0, str(root))\n"
   ]
  },
  {
   "cell_type": "code",
   "execution_count": 3,
   "id": "ff44c723",
   "metadata": {},
   "outputs": [
    {
     "name": "stdout",
     "output_type": "stream",
     "text": [
      "[WEC] Pretraining word embeddings\n",
      "[WEC] Done pretraining word embeddings\n",
      "[WEC] Number of word embedding tokens:  122\n",
      "[WEC] Word embedding tokens:  01234, 01243, 01324, 01342, 01423, 01432, 02134, 02143, 02314, 02341, 02413, 02431, 03124, 03142, 03214, 03241, 03412, 03421, 04123, 04132, 04213, 04231, 04312, 04321, 10234, 10243, 10324, 10342, 10423, 10432, 12034, 12043, 12304, 12340, 12403, 12430, 13024, 13042, 13204, 13240, 13402, 13420, 14023, 14032, 14203, 14230, 14302, 14320, 20134, 20143, 20314, 20341, 20413, 20431, 21034, 21043, 21304, 21340, 21403, 21430, 23014, 23041, 23104, 23140, 23401, 23410, 24013, 24031, 24103, 24130, 24301, 24310, 30124, 30142, 30214, 30241, 30412, 30421, 31024, 31042, 31204, 31240, 31402, 31420, 32014, 32041, 32104, 32140, 32401, 32410, 34012, 34021, 34102, 34120, 34201, 34210, 40123, 40132, 40213, 40231, 40312, 40321, 41023, 41032, 41203, 41230, 41302, 41320, 42013, 42031, 42103, 42130, 42301, 42310, 43012, 43021, 43102, 43120, 43201, 43210, PAD, UNK\n",
      "MLP: total=166,661 | trainable=166,661\n",
      "CNN: total=212,005 | trainable=212,005\n",
      "WEC: total=12,200 | trainable=12,200\n",
      "SetTransformer: total=1,198,597 | trainable=1,198,597\n"
     ]
    }
   ],
   "source": [
    "from models.mlp import MLP\n",
    "from models.cnn import CNN\n",
    "from models.wec import WEC\n",
    "from models.set_transformer import SetTransformer\n",
    "\n",
    "import torch\n",
    "\n",
    "def count_params(m):\n",
    "    total = sum(p.numel() for p in m.parameters())\n",
    "    train = sum(p.numel() for p in m.parameters() if p.requires_grad)\n",
    "    return total, train\n",
    "\n",
    "V, A = 5, 5\n",
    "N=10000\n",
    "\n",
    "models = {\n",
    "    \"MLP\": MLP(V, A),\n",
    "    \"CNN\": CNN(V, A),\n",
    "    \"WEC\": WEC(V, A),\n",
    "    \"SetTransformer\": SetTransformer(V, A),\n",
    "}\n",
    "\n",
    "X_pre = torch.stack([\n",
    "    torch.stack([torch.randperm(A) for _ in range(V)])  # one profile (V voters)\n",
    "    for _ in range(N)                                    # N profiles\n",
    "])\n",
    "\n",
    "if isinstance(models[\"WEC\"], WEC):\n",
    "    models[\"WEC\"].initialize_embeddings({}, X_pre)\n",
    "\n",
    "# --- report counts ---\n",
    "for name, m in models.items():\n",
    "    total, train = count_params(m)\n",
    "    print(f\"{name}: total={total:,} | trainable={train:,}\")\n"
   ]
  }
 ],
 "metadata": {
  "kernelspec": {
   "display_name": "ax_deep_voting",
   "language": "python",
   "name": "python3"
  },
  "language_info": {
   "codemirror_mode": {
    "name": "ipython",
    "version": 3
   },
   "file_extension": ".py",
   "mimetype": "text/x-python",
   "name": "python",
   "nbconvert_exporter": "python",
   "pygments_lexer": "ipython3",
   "version": "3.10.16"
  }
 },
 "nbformat": 4,
 "nbformat_minor": 5
}
